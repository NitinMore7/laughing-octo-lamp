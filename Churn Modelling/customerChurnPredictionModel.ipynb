{
  "nbformat": 4,
  "nbformat_minor": 0,
  "metadata": {
    "colab": {
      "name": "customerChurnPredictionModel.ipynb",
      "provenance": []
    },
    "kernelspec": {
      "name": "python3",
      "display_name": "Python 3"
    },
    "language_info": {
      "name": "python"
    }
  },
  "cells": [
    {
      "cell_type": "code",
      "execution_count": 72,
      "metadata": {
        "id": "_rhve1VOU5xM"
      },
      "outputs": [],
      "source": [
        "import numpy as np\n",
        "import pandas as pd\n",
        "import os"
      ]
    },
    {
      "cell_type": "code",
      "source": [
        "df = pd.read_csv('/content/Churn_Modelling.csv')\n",
        "df.head()"
      ],
      "metadata": {
        "colab": {
          "base_uri": "https://localhost:8080/",
          "height": 206
        },
        "id": "ZX6zZPopWT_g",
        "outputId": "31c103b9-cf47-4d6c-98cb-ee668eb317ae"
      },
      "execution_count": 73,
      "outputs": [
        {
          "output_type": "execute_result",
          "data": {
            "text/plain": [
              "   RowNumber  CustomerId   Surname  CreditScore Geography  Gender  Age  \\\n",
              "0          1    15634602  Hargrave          619    France  Female   42   \n",
              "1          2    15647311      Hill          608     Spain  Female   41   \n",
              "2          3    15619304      Onio          502    France  Female   42   \n",
              "3          4    15701354      Boni          699    France  Female   39   \n",
              "4          5    15737888  Mitchell          850     Spain  Female   43   \n",
              "\n",
              "   Tenure    Balance  NumOfProducts  HasCrCard  IsActiveMember  \\\n",
              "0       2       0.00              1          1               1   \n",
              "1       1   83807.86              1          0               1   \n",
              "2       8  159660.80              3          1               0   \n",
              "3       1       0.00              2          0               0   \n",
              "4       2  125510.82              1          1               1   \n",
              "\n",
              "   EstimatedSalary  Exited  \n",
              "0        101348.88       1  \n",
              "1        112542.58       0  \n",
              "2        113931.57       1  \n",
              "3         93826.63       0  \n",
              "4         79084.10       0  "
            ],
            "text/html": [
              "\n",
              "  <div id=\"df-da1fe3db-828d-4b3c-8469-d8e690d7f4a5\">\n",
              "    <div class=\"colab-df-container\">\n",
              "      <div>\n",
              "<style scoped>\n",
              "    .dataframe tbody tr th:only-of-type {\n",
              "        vertical-align: middle;\n",
              "    }\n",
              "\n",
              "    .dataframe tbody tr th {\n",
              "        vertical-align: top;\n",
              "    }\n",
              "\n",
              "    .dataframe thead th {\n",
              "        text-align: right;\n",
              "    }\n",
              "</style>\n",
              "<table border=\"1\" class=\"dataframe\">\n",
              "  <thead>\n",
              "    <tr style=\"text-align: right;\">\n",
              "      <th></th>\n",
              "      <th>RowNumber</th>\n",
              "      <th>CustomerId</th>\n",
              "      <th>Surname</th>\n",
              "      <th>CreditScore</th>\n",
              "      <th>Geography</th>\n",
              "      <th>Gender</th>\n",
              "      <th>Age</th>\n",
              "      <th>Tenure</th>\n",
              "      <th>Balance</th>\n",
              "      <th>NumOfProducts</th>\n",
              "      <th>HasCrCard</th>\n",
              "      <th>IsActiveMember</th>\n",
              "      <th>EstimatedSalary</th>\n",
              "      <th>Exited</th>\n",
              "    </tr>\n",
              "  </thead>\n",
              "  <tbody>\n",
              "    <tr>\n",
              "      <th>0</th>\n",
              "      <td>1</td>\n",
              "      <td>15634602</td>\n",
              "      <td>Hargrave</td>\n",
              "      <td>619</td>\n",
              "      <td>France</td>\n",
              "      <td>Female</td>\n",
              "      <td>42</td>\n",
              "      <td>2</td>\n",
              "      <td>0.00</td>\n",
              "      <td>1</td>\n",
              "      <td>1</td>\n",
              "      <td>1</td>\n",
              "      <td>101348.88</td>\n",
              "      <td>1</td>\n",
              "    </tr>\n",
              "    <tr>\n",
              "      <th>1</th>\n",
              "      <td>2</td>\n",
              "      <td>15647311</td>\n",
              "      <td>Hill</td>\n",
              "      <td>608</td>\n",
              "      <td>Spain</td>\n",
              "      <td>Female</td>\n",
              "      <td>41</td>\n",
              "      <td>1</td>\n",
              "      <td>83807.86</td>\n",
              "      <td>1</td>\n",
              "      <td>0</td>\n",
              "      <td>1</td>\n",
              "      <td>112542.58</td>\n",
              "      <td>0</td>\n",
              "    </tr>\n",
              "    <tr>\n",
              "      <th>2</th>\n",
              "      <td>3</td>\n",
              "      <td>15619304</td>\n",
              "      <td>Onio</td>\n",
              "      <td>502</td>\n",
              "      <td>France</td>\n",
              "      <td>Female</td>\n",
              "      <td>42</td>\n",
              "      <td>8</td>\n",
              "      <td>159660.80</td>\n",
              "      <td>3</td>\n",
              "      <td>1</td>\n",
              "      <td>0</td>\n",
              "      <td>113931.57</td>\n",
              "      <td>1</td>\n",
              "    </tr>\n",
              "    <tr>\n",
              "      <th>3</th>\n",
              "      <td>4</td>\n",
              "      <td>15701354</td>\n",
              "      <td>Boni</td>\n",
              "      <td>699</td>\n",
              "      <td>France</td>\n",
              "      <td>Female</td>\n",
              "      <td>39</td>\n",
              "      <td>1</td>\n",
              "      <td>0.00</td>\n",
              "      <td>2</td>\n",
              "      <td>0</td>\n",
              "      <td>0</td>\n",
              "      <td>93826.63</td>\n",
              "      <td>0</td>\n",
              "    </tr>\n",
              "    <tr>\n",
              "      <th>4</th>\n",
              "      <td>5</td>\n",
              "      <td>15737888</td>\n",
              "      <td>Mitchell</td>\n",
              "      <td>850</td>\n",
              "      <td>Spain</td>\n",
              "      <td>Female</td>\n",
              "      <td>43</td>\n",
              "      <td>2</td>\n",
              "      <td>125510.82</td>\n",
              "      <td>1</td>\n",
              "      <td>1</td>\n",
              "      <td>1</td>\n",
              "      <td>79084.10</td>\n",
              "      <td>0</td>\n",
              "    </tr>\n",
              "  </tbody>\n",
              "</table>\n",
              "</div>\n",
              "      <button class=\"colab-df-convert\" onclick=\"convertToInteractive('df-da1fe3db-828d-4b3c-8469-d8e690d7f4a5')\"\n",
              "              title=\"Convert this dataframe to an interactive table.\"\n",
              "              style=\"display:none;\">\n",
              "        \n",
              "  <svg xmlns=\"http://www.w3.org/2000/svg\" height=\"24px\"viewBox=\"0 0 24 24\"\n",
              "       width=\"24px\">\n",
              "    <path d=\"M0 0h24v24H0V0z\" fill=\"none\"/>\n",
              "    <path d=\"M18.56 5.44l.94 2.06.94-2.06 2.06-.94-2.06-.94-.94-2.06-.94 2.06-2.06.94zm-11 1L8.5 8.5l.94-2.06 2.06-.94-2.06-.94L8.5 2.5l-.94 2.06-2.06.94zm10 10l.94 2.06.94-2.06 2.06-.94-2.06-.94-.94-2.06-.94 2.06-2.06.94z\"/><path d=\"M17.41 7.96l-1.37-1.37c-.4-.4-.92-.59-1.43-.59-.52 0-1.04.2-1.43.59L10.3 9.45l-7.72 7.72c-.78.78-.78 2.05 0 2.83L4 21.41c.39.39.9.59 1.41.59.51 0 1.02-.2 1.41-.59l7.78-7.78 2.81-2.81c.8-.78.8-2.07 0-2.86zM5.41 20L4 18.59l7.72-7.72 1.47 1.35L5.41 20z\"/>\n",
              "  </svg>\n",
              "      </button>\n",
              "      \n",
              "  <style>\n",
              "    .colab-df-container {\n",
              "      display:flex;\n",
              "      flex-wrap:wrap;\n",
              "      gap: 12px;\n",
              "    }\n",
              "\n",
              "    .colab-df-convert {\n",
              "      background-color: #E8F0FE;\n",
              "      border: none;\n",
              "      border-radius: 50%;\n",
              "      cursor: pointer;\n",
              "      display: none;\n",
              "      fill: #1967D2;\n",
              "      height: 32px;\n",
              "      padding: 0 0 0 0;\n",
              "      width: 32px;\n",
              "    }\n",
              "\n",
              "    .colab-df-convert:hover {\n",
              "      background-color: #E2EBFA;\n",
              "      box-shadow: 0px 1px 2px rgba(60, 64, 67, 0.3), 0px 1px 3px 1px rgba(60, 64, 67, 0.15);\n",
              "      fill: #174EA6;\n",
              "    }\n",
              "\n",
              "    [theme=dark] .colab-df-convert {\n",
              "      background-color: #3B4455;\n",
              "      fill: #D2E3FC;\n",
              "    }\n",
              "\n",
              "    [theme=dark] .colab-df-convert:hover {\n",
              "      background-color: #434B5C;\n",
              "      box-shadow: 0px 1px 3px 1px rgba(0, 0, 0, 0.15);\n",
              "      filter: drop-shadow(0px 1px 2px rgba(0, 0, 0, 0.3));\n",
              "      fill: #FFFFFF;\n",
              "    }\n",
              "  </style>\n",
              "\n",
              "      <script>\n",
              "        const buttonEl =\n",
              "          document.querySelector('#df-da1fe3db-828d-4b3c-8469-d8e690d7f4a5 button.colab-df-convert');\n",
              "        buttonEl.style.display =\n",
              "          google.colab.kernel.accessAllowed ? 'block' : 'none';\n",
              "\n",
              "        async function convertToInteractive(key) {\n",
              "          const element = document.querySelector('#df-da1fe3db-828d-4b3c-8469-d8e690d7f4a5');\n",
              "          const dataTable =\n",
              "            await google.colab.kernel.invokeFunction('convertToInteractive',\n",
              "                                                     [key], {});\n",
              "          if (!dataTable) return;\n",
              "\n",
              "          const docLinkHtml = 'Like what you see? Visit the ' +\n",
              "            '<a target=\"_blank\" href=https://colab.research.google.com/notebooks/data_table.ipynb>data table notebook</a>'\n",
              "            + ' to learn more about interactive tables.';\n",
              "          element.innerHTML = '';\n",
              "          dataTable['output_type'] = 'display_data';\n",
              "          await google.colab.output.renderOutput(dataTable, element);\n",
              "          const docLink = document.createElement('div');\n",
              "          docLink.innerHTML = docLinkHtml;\n",
              "          element.appendChild(docLink);\n",
              "        }\n",
              "      </script>\n",
              "    </div>\n",
              "  </div>\n",
              "  "
            ]
          },
          "metadata": {},
          "execution_count": 73
        }
      ]
    },
    {
      "cell_type": "code",
      "source": [
        "df.info()\n",
        "# to check if any value is missing"
      ],
      "metadata": {
        "colab": {
          "base_uri": "https://localhost:8080/"
        },
        "id": "nz35mu4LXUjC",
        "outputId": "f4e3e1e0-8bd7-4f8a-b2a6-319eec305ff3"
      },
      "execution_count": 74,
      "outputs": [
        {
          "output_type": "stream",
          "name": "stdout",
          "text": [
            "<class 'pandas.core.frame.DataFrame'>\n",
            "RangeIndex: 10000 entries, 0 to 9999\n",
            "Data columns (total 14 columns):\n",
            " #   Column           Non-Null Count  Dtype  \n",
            "---  ------           --------------  -----  \n",
            " 0   RowNumber        10000 non-null  int64  \n",
            " 1   CustomerId       10000 non-null  int64  \n",
            " 2   Surname          10000 non-null  object \n",
            " 3   CreditScore      10000 non-null  int64  \n",
            " 4   Geography        10000 non-null  object \n",
            " 5   Gender           10000 non-null  object \n",
            " 6   Age              10000 non-null  int64  \n",
            " 7   Tenure           10000 non-null  int64  \n",
            " 8   Balance          10000 non-null  float64\n",
            " 9   NumOfProducts    10000 non-null  int64  \n",
            " 10  HasCrCard        10000 non-null  int64  \n",
            " 11  IsActiveMember   10000 non-null  int64  \n",
            " 12  EstimatedSalary  10000 non-null  float64\n",
            " 13  Exited           10000 non-null  int64  \n",
            "dtypes: float64(2), int64(9), object(3)\n",
            "memory usage: 1.1+ MB\n"
          ]
        }
      ]
    },
    {
      "cell_type": "code",
      "source": [
        "#to check duplicated rows\n",
        "df.duplicated().sum()"
      ],
      "metadata": {
        "colab": {
          "base_uri": "https://localhost:8080/"
        },
        "id": "1uuAWDm7Xk2t",
        "outputId": "fea20a76-633c-4051-f2dc-c85f6291959c"
      },
      "execution_count": 75,
      "outputs": [
        {
          "output_type": "execute_result",
          "data": {
            "text/plain": [
              "0"
            ]
          },
          "metadata": {},
          "execution_count": 75
        }
      ]
    },
    {
      "cell_type": "code",
      "source": [
        "df['Exited'].value_counts()\n",
        "# visible that it's class imbalance"
      ],
      "metadata": {
        "colab": {
          "base_uri": "https://localhost:8080/"
        },
        "id": "UxoAAoXcXohZ",
        "outputId": "e5fdc995-f49d-4cde-cabe-abfb3c0f1fec"
      },
      "execution_count": 76,
      "outputs": [
        {
          "output_type": "execute_result",
          "data": {
            "text/plain": [
              "0    7963\n",
              "1    2037\n",
              "Name: Exited, dtype: int64"
            ]
          },
          "metadata": {},
          "execution_count": 76
        }
      ]
    },
    {
      "cell_type": "code",
      "source": [
        "df.drop(columns=['RowNumber','CustomerId','Surname'],inplace=True)"
      ],
      "metadata": {
        "id": "q5OHTPdUX-tR"
      },
      "execution_count": 77,
      "outputs": []
    },
    {
      "cell_type": "code",
      "source": [
        "# Should do EDA not doinh in here"
      ],
      "metadata": {
        "id": "gG4lYgIfqwPe"
      },
      "execution_count": 78,
      "outputs": []
    },
    {
      "cell_type": "code",
      "source": [
        "df = pd.get_dummies(df,columns=['Geography','Gender'],drop_first=True)"
      ],
      "metadata": {
        "id": "d5vL0vMJq7X6"
      },
      "execution_count": 79,
      "outputs": []
    },
    {
      "cell_type": "code",
      "source": [
        "# scale the values\n",
        "X = df.drop(columns=['Exited'])\n",
        "y = df['Exited']\n",
        "from sklearn.model_selection import train_test_split\n",
        "X_train,x_test,y_train,y_test = train_test_split(X,y,test_size = 0.2, random_state=1)"
      ],
      "metadata": {
        "id": "jvvMCxOor82_"
      },
      "execution_count": 80,
      "outputs": []
    },
    {
      "cell_type": "code",
      "source": [
        "X_train.shape\n",
        "x_test.shape\n"
      ],
      "metadata": {
        "colab": {
          "base_uri": "https://localhost:8080/"
        },
        "id": "o9SvCHRJtG8A",
        "outputId": "31d671df-643b-47bf-db77-d38685148ae0"
      },
      "execution_count": 81,
      "outputs": [
        {
          "output_type": "execute_result",
          "data": {
            "text/plain": [
              "(2000, 11)"
            ]
          },
          "metadata": {},
          "execution_count": 81
        }
      ]
    },
    {
      "cell_type": "code",
      "source": [
        "from sklearn.preprocessing import StandardScaler\n",
        "scaler = StandardScaler()\n",
        "\n",
        "X_train_trf = scaler.fit_transform(X_train)\n",
        "X_test_trf = scaler.transform(x_test)"
      ],
      "metadata": {
        "id": "QPB2MJeStJrf"
      },
      "execution_count": 82,
      "outputs": []
    },
    {
      "cell_type": "code",
      "source": [
        "import tensorflow"
      ],
      "metadata": {
        "id": "mkaKas9OtjgP"
      },
      "execution_count": 83,
      "outputs": []
    },
    {
      "cell_type": "code",
      "source": [
        "from tensorflow import keras\n",
        "from tensorflow.keras import Sequential\n"
      ],
      "metadata": {
        "id": "3Kk4xzLFyr2p"
      },
      "execution_count": 84,
      "outputs": []
    },
    {
      "cell_type": "code",
      "source": [
        "from tensorflow.keras.layers import Dense"
      ],
      "metadata": {
        "id": "Bez3vsDgy6ci"
      },
      "execution_count": 85,
      "outputs": []
    },
    {
      "cell_type": "code",
      "source": [
        "model = Sequential()\n",
        "\n",
        "model.add(Dense(11,activation='relu',input_dim=11))\n",
        "model.add(Dense(11,activation='relu',input_dim=11))\n",
        "model.add(Dense(1,activation='sigmoid'))\n",
        "\n",
        "model.summary()\n"
      ],
      "metadata": {
        "colab": {
          "base_uri": "https://localhost:8080/"
        },
        "id": "BJ3jbYBqzCae",
        "outputId": "1b2010aa-8dfb-4ad6-e2f2-714fcfc2d88c"
      },
      "execution_count": 86,
      "outputs": [
        {
          "output_type": "stream",
          "name": "stdout",
          "text": [
            "Model: \"sequential_3\"\n",
            "_________________________________________________________________\n",
            " Layer (type)                Output Shape              Param #   \n",
            "=================================================================\n",
            " dense_7 (Dense)             (None, 11)                132       \n",
            "                                                                 \n",
            " dense_8 (Dense)             (None, 11)                132       \n",
            "                                                                 \n",
            " dense_9 (Dense)             (None, 1)                 12        \n",
            "                                                                 \n",
            "=================================================================\n",
            "Total params: 276\n",
            "Trainable params: 276\n",
            "Non-trainable params: 0\n",
            "_________________________________________________________________\n"
          ]
        }
      ]
    },
    {
      "cell_type": "code",
      "source": [
        "model.compile(loss='binary_crossentropy',optimizer = 'Adam',metrics=['accuracy'])"
      ],
      "metadata": {
        "id": "BVokjnuD0CpY"
      },
      "execution_count": 87,
      "outputs": []
    },
    {
      "cell_type": "code",
      "source": [
        "history = model.fit(X_train_trf,y_train,epochs=100,validation_split=0.2)"
      ],
      "metadata": {
        "colab": {
          "base_uri": "https://localhost:8080/"
        },
        "id": "7Bahoko70xwx",
        "outputId": "2e08149f-cd68-4923-debc-617ee5df65e3"
      },
      "execution_count": 88,
      "outputs": [
        {
          "output_type": "stream",
          "name": "stdout",
          "text": [
            "Epoch 1/100\n",
            "200/200 [==============================] - 1s 4ms/step - loss: 0.6592 - accuracy: 0.6073 - val_loss: 0.5409 - val_accuracy: 0.7975\n",
            "Epoch 2/100\n",
            "200/200 [==============================] - 1s 3ms/step - loss: 0.5033 - accuracy: 0.7972 - val_loss: 0.4902 - val_accuracy: 0.7975\n",
            "Epoch 3/100\n",
            "200/200 [==============================] - 1s 3ms/step - loss: 0.4694 - accuracy: 0.7972 - val_loss: 0.4660 - val_accuracy: 0.7975\n",
            "Epoch 4/100\n",
            "200/200 [==============================] - 1s 3ms/step - loss: 0.4504 - accuracy: 0.7972 - val_loss: 0.4487 - val_accuracy: 0.7975\n",
            "Epoch 5/100\n",
            "200/200 [==============================] - 1s 3ms/step - loss: 0.4370 - accuracy: 0.7995 - val_loss: 0.4372 - val_accuracy: 0.8062\n",
            "Epoch 6/100\n",
            "200/200 [==============================] - 1s 3ms/step - loss: 0.4291 - accuracy: 0.8125 - val_loss: 0.4318 - val_accuracy: 0.8056\n",
            "Epoch 7/100\n",
            "200/200 [==============================] - 1s 3ms/step - loss: 0.4237 - accuracy: 0.8206 - val_loss: 0.4279 - val_accuracy: 0.8125\n",
            "Epoch 8/100\n",
            "200/200 [==============================] - 0s 2ms/step - loss: 0.4205 - accuracy: 0.8230 - val_loss: 0.4253 - val_accuracy: 0.8188\n",
            "Epoch 9/100\n",
            "200/200 [==============================] - 0s 2ms/step - loss: 0.4174 - accuracy: 0.8277 - val_loss: 0.4228 - val_accuracy: 0.8163\n",
            "Epoch 10/100\n",
            "200/200 [==============================] - 0s 2ms/step - loss: 0.4150 - accuracy: 0.8295 - val_loss: 0.4201 - val_accuracy: 0.8181\n",
            "Epoch 11/100\n",
            "200/200 [==============================] - 0s 2ms/step - loss: 0.4128 - accuracy: 0.8294 - val_loss: 0.4186 - val_accuracy: 0.8175\n",
            "Epoch 12/100\n",
            "200/200 [==============================] - 1s 2ms/step - loss: 0.4104 - accuracy: 0.8313 - val_loss: 0.4182 - val_accuracy: 0.8169\n",
            "Epoch 13/100\n",
            "200/200 [==============================] - 0s 2ms/step - loss: 0.4083 - accuracy: 0.8311 - val_loss: 0.4157 - val_accuracy: 0.8213\n",
            "Epoch 14/100\n",
            "200/200 [==============================] - 1s 3ms/step - loss: 0.4051 - accuracy: 0.8350 - val_loss: 0.4129 - val_accuracy: 0.8225\n",
            "Epoch 15/100\n",
            "200/200 [==============================] - 0s 2ms/step - loss: 0.4020 - accuracy: 0.8377 - val_loss: 0.4113 - val_accuracy: 0.8231\n",
            "Epoch 16/100\n",
            "200/200 [==============================] - 1s 2ms/step - loss: 0.3979 - accuracy: 0.8378 - val_loss: 0.4050 - val_accuracy: 0.8244\n",
            "Epoch 17/100\n",
            "200/200 [==============================] - 0s 2ms/step - loss: 0.3923 - accuracy: 0.8416 - val_loss: 0.3980 - val_accuracy: 0.8331\n",
            "Epoch 18/100\n",
            "200/200 [==============================] - 1s 3ms/step - loss: 0.3836 - accuracy: 0.8442 - val_loss: 0.3886 - val_accuracy: 0.8394\n",
            "Epoch 19/100\n",
            "200/200 [==============================] - 1s 3ms/step - loss: 0.3742 - accuracy: 0.8500 - val_loss: 0.3805 - val_accuracy: 0.8413\n",
            "Epoch 20/100\n",
            "200/200 [==============================] - 0s 2ms/step - loss: 0.3664 - accuracy: 0.8539 - val_loss: 0.3721 - val_accuracy: 0.8444\n",
            "Epoch 21/100\n",
            "200/200 [==============================] - 0s 2ms/step - loss: 0.3600 - accuracy: 0.8575 - val_loss: 0.3689 - val_accuracy: 0.8487\n",
            "Epoch 22/100\n",
            "200/200 [==============================] - 0s 2ms/step - loss: 0.3551 - accuracy: 0.8592 - val_loss: 0.3652 - val_accuracy: 0.8525\n",
            "Epoch 23/100\n",
            "200/200 [==============================] - 0s 2ms/step - loss: 0.3513 - accuracy: 0.8584 - val_loss: 0.3614 - val_accuracy: 0.8544\n",
            "Epoch 24/100\n",
            "200/200 [==============================] - 0s 2ms/step - loss: 0.3479 - accuracy: 0.8617 - val_loss: 0.3608 - val_accuracy: 0.8525\n",
            "Epoch 25/100\n",
            "200/200 [==============================] - 0s 2ms/step - loss: 0.3457 - accuracy: 0.8614 - val_loss: 0.3579 - val_accuracy: 0.8550\n",
            "Epoch 26/100\n",
            "200/200 [==============================] - 1s 3ms/step - loss: 0.3439 - accuracy: 0.8614 - val_loss: 0.3584 - val_accuracy: 0.8519\n",
            "Epoch 27/100\n",
            "200/200 [==============================] - 0s 2ms/step - loss: 0.3427 - accuracy: 0.8612 - val_loss: 0.3573 - val_accuracy: 0.8512\n",
            "Epoch 28/100\n",
            "200/200 [==============================] - 0s 2ms/step - loss: 0.3415 - accuracy: 0.8634 - val_loss: 0.3562 - val_accuracy: 0.8519\n",
            "Epoch 29/100\n",
            "200/200 [==============================] - 0s 2ms/step - loss: 0.3406 - accuracy: 0.8630 - val_loss: 0.3576 - val_accuracy: 0.8506\n",
            "Epoch 30/100\n",
            "200/200 [==============================] - 0s 2ms/step - loss: 0.3395 - accuracy: 0.8641 - val_loss: 0.3570 - val_accuracy: 0.8506\n",
            "Epoch 31/100\n",
            "200/200 [==============================] - 0s 2ms/step - loss: 0.3389 - accuracy: 0.8645 - val_loss: 0.3558 - val_accuracy: 0.8519\n",
            "Epoch 32/100\n",
            "200/200 [==============================] - 0s 2ms/step - loss: 0.3382 - accuracy: 0.8616 - val_loss: 0.3562 - val_accuracy: 0.8462\n",
            "Epoch 33/100\n",
            "200/200 [==============================] - 1s 3ms/step - loss: 0.3384 - accuracy: 0.8636 - val_loss: 0.3567 - val_accuracy: 0.8487\n",
            "Epoch 34/100\n",
            "200/200 [==============================] - 0s 2ms/step - loss: 0.3374 - accuracy: 0.8641 - val_loss: 0.3551 - val_accuracy: 0.8487\n",
            "Epoch 35/100\n",
            "200/200 [==============================] - 0s 2ms/step - loss: 0.3369 - accuracy: 0.8639 - val_loss: 0.3541 - val_accuracy: 0.8506\n",
            "Epoch 36/100\n",
            "200/200 [==============================] - 0s 2ms/step - loss: 0.3361 - accuracy: 0.8645 - val_loss: 0.3538 - val_accuracy: 0.8506\n",
            "Epoch 37/100\n",
            "200/200 [==============================] - 0s 2ms/step - loss: 0.3356 - accuracy: 0.8653 - val_loss: 0.3544 - val_accuracy: 0.8494\n",
            "Epoch 38/100\n",
            "200/200 [==============================] - 1s 3ms/step - loss: 0.3355 - accuracy: 0.8647 - val_loss: 0.3550 - val_accuracy: 0.8500\n",
            "Epoch 39/100\n",
            "200/200 [==============================] - 0s 2ms/step - loss: 0.3348 - accuracy: 0.8648 - val_loss: 0.3555 - val_accuracy: 0.8531\n",
            "Epoch 40/100\n",
            "200/200 [==============================] - 0s 2ms/step - loss: 0.3348 - accuracy: 0.8628 - val_loss: 0.3552 - val_accuracy: 0.8506\n",
            "Epoch 41/100\n",
            "200/200 [==============================] - 1s 3ms/step - loss: 0.3344 - accuracy: 0.8644 - val_loss: 0.3546 - val_accuracy: 0.8487\n",
            "Epoch 42/100\n",
            "200/200 [==============================] - 0s 2ms/step - loss: 0.3339 - accuracy: 0.8641 - val_loss: 0.3547 - val_accuracy: 0.8494\n",
            "Epoch 43/100\n",
            "200/200 [==============================] - 0s 2ms/step - loss: 0.3332 - accuracy: 0.8647 - val_loss: 0.3550 - val_accuracy: 0.8531\n",
            "Epoch 44/100\n",
            "200/200 [==============================] - 0s 2ms/step - loss: 0.3333 - accuracy: 0.8636 - val_loss: 0.3539 - val_accuracy: 0.8506\n",
            "Epoch 45/100\n",
            "200/200 [==============================] - 1s 3ms/step - loss: 0.3326 - accuracy: 0.8645 - val_loss: 0.3540 - val_accuracy: 0.8506\n",
            "Epoch 46/100\n",
            "200/200 [==============================] - 0s 2ms/step - loss: 0.3330 - accuracy: 0.8655 - val_loss: 0.3534 - val_accuracy: 0.8506\n",
            "Epoch 47/100\n",
            "200/200 [==============================] - 0s 2ms/step - loss: 0.3320 - accuracy: 0.8661 - val_loss: 0.3538 - val_accuracy: 0.8506\n",
            "Epoch 48/100\n",
            "200/200 [==============================] - 1s 3ms/step - loss: 0.3316 - accuracy: 0.8656 - val_loss: 0.3553 - val_accuracy: 0.8519\n",
            "Epoch 49/100\n",
            "200/200 [==============================] - 0s 2ms/step - loss: 0.3312 - accuracy: 0.8659 - val_loss: 0.3540 - val_accuracy: 0.8500\n",
            "Epoch 50/100\n",
            "200/200 [==============================] - 1s 3ms/step - loss: 0.3314 - accuracy: 0.8664 - val_loss: 0.3556 - val_accuracy: 0.8500\n",
            "Epoch 51/100\n",
            "200/200 [==============================] - 0s 2ms/step - loss: 0.3308 - accuracy: 0.8669 - val_loss: 0.3552 - val_accuracy: 0.8494\n",
            "Epoch 52/100\n",
            "200/200 [==============================] - 1s 3ms/step - loss: 0.3303 - accuracy: 0.8670 - val_loss: 0.3540 - val_accuracy: 0.8506\n",
            "Epoch 53/100\n",
            "200/200 [==============================] - 0s 2ms/step - loss: 0.3305 - accuracy: 0.8653 - val_loss: 0.3550 - val_accuracy: 0.8500\n",
            "Epoch 54/100\n",
            "200/200 [==============================] - 0s 2ms/step - loss: 0.3302 - accuracy: 0.8666 - val_loss: 0.3556 - val_accuracy: 0.8481\n",
            "Epoch 55/100\n",
            "200/200 [==============================] - 1s 3ms/step - loss: 0.3298 - accuracy: 0.8664 - val_loss: 0.3563 - val_accuracy: 0.8494\n",
            "Epoch 56/100\n",
            "200/200 [==============================] - 1s 3ms/step - loss: 0.3294 - accuracy: 0.8655 - val_loss: 0.3555 - val_accuracy: 0.8506\n",
            "Epoch 57/100\n",
            "200/200 [==============================] - 0s 2ms/step - loss: 0.3295 - accuracy: 0.8662 - val_loss: 0.3548 - val_accuracy: 0.8500\n",
            "Epoch 58/100\n",
            "200/200 [==============================] - 1s 3ms/step - loss: 0.3292 - accuracy: 0.8666 - val_loss: 0.3555 - val_accuracy: 0.8487\n",
            "Epoch 59/100\n",
            "200/200 [==============================] - 1s 3ms/step - loss: 0.3289 - accuracy: 0.8661 - val_loss: 0.3547 - val_accuracy: 0.8494\n",
            "Epoch 60/100\n",
            "200/200 [==============================] - 1s 3ms/step - loss: 0.3288 - accuracy: 0.8672 - val_loss: 0.3569 - val_accuracy: 0.8494\n",
            "Epoch 61/100\n",
            "200/200 [==============================] - 0s 2ms/step - loss: 0.3285 - accuracy: 0.8669 - val_loss: 0.3587 - val_accuracy: 0.8487\n",
            "Epoch 62/100\n",
            "200/200 [==============================] - 1s 3ms/step - loss: 0.3284 - accuracy: 0.8659 - val_loss: 0.3576 - val_accuracy: 0.8494\n",
            "Epoch 63/100\n",
            "200/200 [==============================] - 0s 2ms/step - loss: 0.3283 - accuracy: 0.8670 - val_loss: 0.3570 - val_accuracy: 0.8487\n",
            "Epoch 64/100\n",
            "200/200 [==============================] - 1s 3ms/step - loss: 0.3281 - accuracy: 0.8672 - val_loss: 0.3557 - val_accuracy: 0.8481\n",
            "Epoch 65/100\n",
            "200/200 [==============================] - 0s 2ms/step - loss: 0.3272 - accuracy: 0.8653 - val_loss: 0.3558 - val_accuracy: 0.8494\n",
            "Epoch 66/100\n",
            "200/200 [==============================] - 0s 2ms/step - loss: 0.3280 - accuracy: 0.8669 - val_loss: 0.3569 - val_accuracy: 0.8481\n",
            "Epoch 67/100\n",
            "200/200 [==============================] - 0s 2ms/step - loss: 0.3272 - accuracy: 0.8669 - val_loss: 0.3566 - val_accuracy: 0.8506\n",
            "Epoch 68/100\n",
            "200/200 [==============================] - 1s 3ms/step - loss: 0.3275 - accuracy: 0.8650 - val_loss: 0.3559 - val_accuracy: 0.8469\n",
            "Epoch 69/100\n",
            "200/200 [==============================] - 1s 3ms/step - loss: 0.3270 - accuracy: 0.8664 - val_loss: 0.3568 - val_accuracy: 0.8481\n",
            "Epoch 70/100\n",
            "200/200 [==============================] - 0s 2ms/step - loss: 0.3267 - accuracy: 0.8675 - val_loss: 0.3554 - val_accuracy: 0.8481\n",
            "Epoch 71/100\n",
            "200/200 [==============================] - 1s 3ms/step - loss: 0.3265 - accuracy: 0.8669 - val_loss: 0.3557 - val_accuracy: 0.8469\n",
            "Epoch 72/100\n",
            "200/200 [==============================] - 1s 3ms/step - loss: 0.3267 - accuracy: 0.8673 - val_loss: 0.3560 - val_accuracy: 0.8506\n",
            "Epoch 73/100\n",
            "200/200 [==============================] - 1s 6ms/step - loss: 0.3263 - accuracy: 0.8673 - val_loss: 0.3566 - val_accuracy: 0.8525\n",
            "Epoch 74/100\n",
            "200/200 [==============================] - 1s 3ms/step - loss: 0.3258 - accuracy: 0.8661 - val_loss: 0.3579 - val_accuracy: 0.8494\n",
            "Epoch 75/100\n",
            "200/200 [==============================] - 1s 3ms/step - loss: 0.3252 - accuracy: 0.8670 - val_loss: 0.3569 - val_accuracy: 0.8481\n",
            "Epoch 76/100\n",
            "200/200 [==============================] - 1s 3ms/step - loss: 0.3259 - accuracy: 0.8670 - val_loss: 0.3574 - val_accuracy: 0.8525\n",
            "Epoch 77/100\n",
            "200/200 [==============================] - 1s 3ms/step - loss: 0.3252 - accuracy: 0.8673 - val_loss: 0.3579 - val_accuracy: 0.8469\n",
            "Epoch 78/100\n",
            "200/200 [==============================] - 1s 3ms/step - loss: 0.3254 - accuracy: 0.8681 - val_loss: 0.3574 - val_accuracy: 0.8519\n",
            "Epoch 79/100\n",
            "200/200 [==============================] - 1s 3ms/step - loss: 0.3250 - accuracy: 0.8672 - val_loss: 0.3568 - val_accuracy: 0.8500\n",
            "Epoch 80/100\n",
            "200/200 [==============================] - 1s 3ms/step - loss: 0.3250 - accuracy: 0.8687 - val_loss: 0.3577 - val_accuracy: 0.8525\n",
            "Epoch 81/100\n",
            "200/200 [==============================] - 0s 2ms/step - loss: 0.3246 - accuracy: 0.8672 - val_loss: 0.3581 - val_accuracy: 0.8506\n",
            "Epoch 82/100\n",
            "200/200 [==============================] - 1s 3ms/step - loss: 0.3245 - accuracy: 0.8683 - val_loss: 0.3576 - val_accuracy: 0.8500\n",
            "Epoch 83/100\n",
            "200/200 [==============================] - 0s 2ms/step - loss: 0.3247 - accuracy: 0.8672 - val_loss: 0.3585 - val_accuracy: 0.8512\n",
            "Epoch 84/100\n",
            "200/200 [==============================] - 0s 2ms/step - loss: 0.3246 - accuracy: 0.8687 - val_loss: 0.3579 - val_accuracy: 0.8487\n",
            "Epoch 85/100\n",
            "200/200 [==============================] - 0s 2ms/step - loss: 0.3233 - accuracy: 0.8686 - val_loss: 0.3583 - val_accuracy: 0.8494\n",
            "Epoch 86/100\n",
            "200/200 [==============================] - 0s 2ms/step - loss: 0.3243 - accuracy: 0.8680 - val_loss: 0.3583 - val_accuracy: 0.8525\n",
            "Epoch 87/100\n",
            "200/200 [==============================] - 0s 2ms/step - loss: 0.3239 - accuracy: 0.8666 - val_loss: 0.3582 - val_accuracy: 0.8481\n",
            "Epoch 88/100\n",
            "200/200 [==============================] - 1s 3ms/step - loss: 0.3239 - accuracy: 0.8687 - val_loss: 0.3587 - val_accuracy: 0.8494\n",
            "Epoch 89/100\n",
            "200/200 [==============================] - 0s 2ms/step - loss: 0.3237 - accuracy: 0.8673 - val_loss: 0.3601 - val_accuracy: 0.8469\n",
            "Epoch 90/100\n",
            "200/200 [==============================] - 1s 3ms/step - loss: 0.3236 - accuracy: 0.8681 - val_loss: 0.3581 - val_accuracy: 0.8519\n",
            "Epoch 91/100\n",
            "200/200 [==============================] - 1s 3ms/step - loss: 0.3232 - accuracy: 0.8684 - val_loss: 0.3580 - val_accuracy: 0.8506\n",
            "Epoch 92/100\n",
            "200/200 [==============================] - 1s 3ms/step - loss: 0.3231 - accuracy: 0.8692 - val_loss: 0.3574 - val_accuracy: 0.8512\n",
            "Epoch 93/100\n",
            "200/200 [==============================] - 1s 2ms/step - loss: 0.3231 - accuracy: 0.8678 - val_loss: 0.3570 - val_accuracy: 0.8519\n",
            "Epoch 94/100\n",
            "200/200 [==============================] - 1s 2ms/step - loss: 0.3226 - accuracy: 0.8681 - val_loss: 0.3582 - val_accuracy: 0.8506\n",
            "Epoch 95/100\n",
            "200/200 [==============================] - 1s 3ms/step - loss: 0.3228 - accuracy: 0.8691 - val_loss: 0.3572 - val_accuracy: 0.8481\n",
            "Epoch 96/100\n",
            "200/200 [==============================] - 1s 3ms/step - loss: 0.3228 - accuracy: 0.8677 - val_loss: 0.3571 - val_accuracy: 0.8512\n",
            "Epoch 97/100\n",
            "200/200 [==============================] - 1s 3ms/step - loss: 0.3225 - accuracy: 0.8680 - val_loss: 0.3570 - val_accuracy: 0.8506\n",
            "Epoch 98/100\n",
            "200/200 [==============================] - 1s 3ms/step - loss: 0.3223 - accuracy: 0.8692 - val_loss: 0.3589 - val_accuracy: 0.8494\n",
            "Epoch 99/100\n",
            "200/200 [==============================] - 0s 2ms/step - loss: 0.3224 - accuracy: 0.8687 - val_loss: 0.3579 - val_accuracy: 0.8519\n",
            "Epoch 100/100\n",
            "200/200 [==============================] - 1s 3ms/step - loss: 0.3226 - accuracy: 0.8673 - val_loss: 0.3577 - val_accuracy: 0.8494\n"
          ]
        }
      ]
    },
    {
      "cell_type": "code",
      "source": [
        "model.layers[0].get_weights()\n"
      ],
      "metadata": {
        "colab": {
          "base_uri": "https://localhost:8080/"
        },
        "id": "W1DDDrhJ1xOB",
        "outputId": "88ec1737-79a1-4d7d-9bf4-1f6c3ea302a5"
      },
      "execution_count": 89,
      "outputs": [
        {
          "output_type": "execute_result",
          "data": {
            "text/plain": [
              "[array([[ 0.14514713,  0.02940232, -0.29400203, -0.23472308, -0.09840095,\n",
              "          0.00700645, -0.2118472 ,  0.22600198,  0.01733837,  0.14807406,\n",
              "         -0.28728363],\n",
              "        [-1.2104863 , -0.35610288, -0.40694076,  0.35160583,  0.32060707,\n",
              "         -1.1366037 , -0.13752986, -0.538873  ,  0.31747016,  0.58853143,\n",
              "         -0.51766354],\n",
              "        [ 0.09023159, -0.02479002, -0.13086355,  0.12666719,  0.07651721,\n",
              "         -0.13444822,  0.08639076, -0.3817907 ,  0.2202509 ,  0.4006282 ,\n",
              "          0.26784748],\n",
              "        [ 0.5242688 , -0.06442241,  0.08784433, -0.08748117,  0.12430862,\n",
              "         -0.3139088 , -0.9110704 , -0.46695682, -0.49543312, -0.60713273,\n",
              "          0.29985   ],\n",
              "        [-0.3696493 ,  0.73543364, -0.6880662 , -0.09273369,  1.3816794 ,\n",
              "          0.19376062, -0.12784152,  0.23302102, -0.9014516 ,  0.39867723,\n",
              "          0.03021454],\n",
              "        [ 0.28492004,  0.43695053,  0.20084673, -0.3997309 , -0.09880355,\n",
              "         -0.3831952 , -0.72936165,  0.25700128, -0.18653241,  0.2005771 ,\n",
              "          0.2944347 ],\n",
              "        [-0.15804452,  0.02031416,  0.21220146,  0.86509305,  0.17016089,\n",
              "         -0.8521294 , -0.4242148 ,  0.0407438 , -0.6865605 ,  0.5570603 ,\n",
              "         -0.19940148],\n",
              "        [ 0.4291105 ,  0.03185875,  0.8242263 , -0.01374613, -0.00595606,\n",
              "         -0.11120152,  0.04056893, -0.05956609, -0.18368302,  0.10940055,\n",
              "         -0.12645063],\n",
              "        [ 0.10067912, -0.26369068, -0.21895981, -0.40952116, -0.41764724,\n",
              "          0.12462334, -0.11517783, -0.17378658,  0.45204037,  0.13286194,\n",
              "         -0.5333048 ],\n",
              "        [ 0.1216773 , -0.24729444, -0.08427379, -0.08862125,  0.13547423,\n",
              "         -0.1432143 , -0.14121401,  0.06557108,  0.10245713,  0.29955527,\n",
              "          0.12665747],\n",
              "        [-0.1526121 ,  0.21231511, -0.04807989,  0.29505658,  0.03445183,\n",
              "         -0.00228576,  0.383363  , -0.02124806, -0.21184164,  0.10562524,\n",
              "         -0.01949856]], dtype=float32),\n",
              " array([ 0.52240705,  0.3125125 , -0.268343  ,  0.44176006, -0.6574017 ,\n",
              "         0.7182613 ,  0.16276121,  0.3036748 ,  0.42454952,  0.38193947,\n",
              "         0.3607111 ], dtype=float32)]"
            ]
          },
          "metadata": {},
          "execution_count": 89
        }
      ]
    },
    {
      "cell_type": "code",
      "source": [
        "y_log = model.predict(X_test_trf)"
      ],
      "metadata": {
        "id": "VXaHb-2P1-mq"
      },
      "execution_count": 90,
      "outputs": []
    },
    {
      "cell_type": "code",
      "source": [
        "y_pred = np.where(y_log>0.5,1,0)"
      ],
      "metadata": {
        "id": "StEHoREw2KDJ"
      },
      "execution_count": 91,
      "outputs": []
    },
    {
      "cell_type": "code",
      "source": [
        "from sklearn.metrics import accuracy_score\n",
        "accuracy_score(y_test,y_pred)"
      ],
      "metadata": {
        "colab": {
          "base_uri": "https://localhost:8080/"
        },
        "id": "19AfWEXx2dli",
        "outputId": "235b61a1-0a95-415f-98e8-44c1ede446d5"
      },
      "execution_count": 92,
      "outputs": [
        {
          "output_type": "execute_result",
          "data": {
            "text/plain": [
              "0.858"
            ]
          },
          "metadata": {},
          "execution_count": 92
        }
      ]
    },
    {
      "cell_type": "code",
      "source": [
        "import matplotlib.pyplot as plt\n",
        "plt.plot(history.history['loss'])\n",
        "plt.plot(history.history['val_loss'])\n"
      ],
      "metadata": {
        "colab": {
          "base_uri": "https://localhost:8080/",
          "height": 282
        },
        "id": "b8959nWV2mke",
        "outputId": "fa96e02a-6566-423f-bdda-17174ed5b90e"
      },
      "execution_count": 93,
      "outputs": [
        {
          "output_type": "execute_result",
          "data": {
            "text/plain": [
              "[<matplotlib.lines.Line2D at 0x7fd0f096b350>]"
            ]
          },
          "metadata": {},
          "execution_count": 93
        },
        {
          "output_type": "display_data",
          "data": {
            "text/plain": [
              "<Figure size 432x288 with 1 Axes>"
            ],
            "image/png": "[encoded data removed]"
          },
          "metadata": {
            "needs_background": "light"
          }
        }
      ]
    },
    {
      "cell_type": "code",
      "source": [
        "plt.plot(history.history['accuracy'])\n",
        "plt.plot(history.history['val_accuracy'])"
      ],
      "metadata": {
        "colab": {
          "base_uri": "https://localhost:8080/",
          "height": 282
        },
        "id": "dBi0eGGk6WFE",
        "outputId": "67b14351-c4d1-43a6-a1a2-fd59f217b70e"
      },
      "execution_count": 94,
      "outputs": [
        {
          "output_type": "execute_result",
          "data": {
            "text/plain": [
              "[<matplotlib.lines.Line2D at 0x7fd0f11906d0>]"
            ]
          },
          "metadata": {},
          "execution_count": 94
        },
        {
          "output_type": "display_data",
          "data": {
            "text/plain": [
              "<Figure size 432x288 with 1 Axes>"
            ],
            "image/png": "[encoded data removed]"
          },
          "metadata": {
            "needs_background": "light"
          }
        }
      ]
    },
    {
      "cell_type": "code",
      "source": [
        ""
      ],
      "metadata": {
        "id": "EjTB6bqY664u"
      },
      "execution_count": 94,
      "outputs": []
    }
  ]
}